{
 "cells": [
  {
   "cell_type": "code",
   "execution_count": 1,
   "metadata": {
    "collapsed": true
   },
   "outputs": [],
   "source": [
    "# Imports\n",
    "import numpy as np\n",
    "import pandas as pd\n",
    "import itertools as it\n",
    "import scipy\n",
    "import scipy.spatial\n",
    "import matplotlib.pyplot as plt\n",
    "\n",
    "%matplotlib inline"
   ]
  },
  {
   "cell_type": "code",
   "execution_count": 2,
   "metadata": {
    "collapsed": true
   },
   "outputs": [],
   "source": [
    "def RMSE(y_test, predictions):\n",
    "    \"\"\"Compute the root mean squared error\n",
    "\n",
    "    Parameters\n",
    "    ----------\n",
    "    y_test : {array-like}, shape = [n_samples]\n",
    "        actual values\n",
    "        \n",
    "    predictions : {array-like}, shape = [n_samples]\n",
    "        predicted values\n",
    "        \n",
    "    Returns\n",
    "    ----------\n",
    "    rmse : float\n",
    "        the root mean squared error\n",
    "    \"\"\"  \n",
    "    rmse = (np.sqrt(((y_test - predictions)**2).mean()))\n",
    "    return rmse"
   ]
  },
  {
   "cell_type": "code",
   "execution_count": 3,
   "metadata": {
    "collapsed": true
   },
   "outputs": [],
   "source": [
    "class rbf(object):\n",
    "    \"\"\"Radial Basis Function (RBF/Gaussian Kernel)\n",
    "    \n",
    "    Parameters\n",
    "    ----------        \n",
    "    param_b : {Integer, Float}\n",
    "        rbf parameter, controls kernel width\n",
    "    \n",
    "    param_a : {Integer, Float}\n",
    "        rbf alpha parameter\n",
    "    \"\"\"\n",
    "    def __init__(self, param_b, param_a = 1):\n",
    "        self.param_b = param_b\n",
    "        self.param_a = param_a\n",
    "\n",
    "    def compute(self, pointa, pointb):\n",
    "        norm = scipy.spatial.distance.cdist(pointa, pointb, 'euclidean')\n",
    "        return self.param_a * np.exp((-1/self.param_b)*np.square(norm))"
   ]
  },
  {
   "cell_type": "code",
   "execution_count": 4,
   "metadata": {
    "collapsed": true
   },
   "outputs": [],
   "source": [
    "class GaussianProcess(object):\n",
    "    \"\"\"Gaussian Process Model for Regression\n",
    "    \n",
    "    Parameters\n",
    "    ----------        \n",
    "    x_train : {array-like, sparse matrix},\n",
    "    shape = [n_samples, n_features]\n",
    "        Training data\n",
    "    \n",
    "    y_train : array-like, shape = [n_samples]\n",
    "        Training targets\n",
    "    \n",
    "    kernel : callable\n",
    "        kernel to be used\n",
    "        \n",
    "    sigma : float\n",
    "        Amplitude to control scaling\n",
    "    \"\"\"\n",
    "\n",
    "    def __init__(self, x_train, y_train, kernel, sigma = .1):\n",
    "        self.X = x_train\n",
    "        self.y = y_train\n",
    "        self.sigma = sigma\n",
    "        self.kernel = kernel\n",
    "        self.kernal_covariance = self.kernel.compute(self.X, self.X)\n",
    "        self.results = {}\n",
    "\n",
    "    def updateSigma(self, sigma):\n",
    "        \"\"\"Update sigma value.\n",
    "        We do this to re train the model without having to keep re-compute the covariance matrix\n",
    "\n",
    "        Parameters\n",
    "        ----------      \n",
    "        sigma : float\n",
    "            Amplitude to control scaling\n",
    "        \"\"\"\n",
    "        self.sigma = sigma\n",
    "\n",
    "    def predict_single(self, new_point):\n",
    "        \"\"\"Compute the predicted mean and variance to be used to learn the overall distribution\n",
    "\n",
    "        Parameters\n",
    "        ----------      \n",
    "        new_point : array-like, shape = [1, n_features]\n",
    "            Single data point\n",
    "            \n",
    "        Returns\n",
    "        ----------      \n",
    "        Tuple : [Float, Float]\n",
    "            Mean and Variance\n",
    "        \"\"\"\n",
    "        new_point = np.asmatrix(new_point)\n",
    "        new_point_kernel = np.array(self.kernel.compute(new_point, self.X).T)\n",
    "        noise_kernel = self.sigma*np.eye(self.kernal_covariance.shape[0]) + self.kernal_covariance\n",
    "        kernel_mult = np.dot(np.linalg.inv(noise_kernel), new_point_kernel)\n",
    "        \n",
    "        mean = np.ravel(np.dot(kernel_mult.T, self.y))\n",
    "        variance = np.ravel(self.sigma + self.kernel.compute(new_point, new_point) - np.dot(kernel_mult.T, new_point_kernel))\n",
    "        \n",
    "        return [mean, variance]\n",
    "    \n",
    "    def trackResults(self, predictions):\n",
    "        \"\"\"Track the mean and variance for each sigma\n",
    "\n",
    "        Parameters\n",
    "        ----------      \n",
    "        predictions : List[(Mean, Variance)]\n",
    "            List of mean and variance for ever \n",
    "            \n",
    "        Returns\n",
    "        ----------      \n",
    "        Tuple : [Float, Float]\n",
    "            Mean and Variance\n",
    "        \"\"\"\n",
    "        means = np.array([x[0] for x in predictions])\n",
    "        variances = np.array([x[1] for x in predictions])\n",
    "        self.results[self.sigma] = [means, variances]\n",
    "    \n",
    "    def predict(self, x_test):\n",
    "        \"\"\"Learn the gaussian approximation of the test set\n",
    "\n",
    "        Parameters\n",
    "        ----------      \n",
    "        test_set : {array-like, sparse matrix},\n",
    "        shape = [n_samples, n_features]\n",
    "            Test set\n",
    "        \"\"\"\n",
    "        predictions = [self.predict_single(x_test.loc[i]) for i in range(len(x_test))] \n",
    "        self.trackResults(predictions)"
   ]
  },
  {
   "cell_type": "code",
   "execution_count": 5,
   "metadata": {
    "collapsed": true
   },
   "outputs": [],
   "source": [
    "# Read in the data\n",
    "x_train = pd.read_csv('data/X_train.csv', header = None)\n",
    "y_train = pd.read_csv('data/y_train.csv', header = None)\n",
    "x_test= pd.read_csv('data/X_test.csv', header = None)\n",
    "y_test = pd.read_csv('data/y_test.csv', header = None)\n"
   ]
  },
  {
   "cell_type": "code",
   "execution_count": 6,
   "metadata": {
    "collapsed": true
   },
   "outputs": [],
   "source": [
    "# Hyper parameters to try\n",
    "bs = [x for x in range(5, 16, 2)]\n",
    "sigmas = [float(x)/10 for x in range(1, 11)]"
   ]
  },
  {
   "cell_type": "code",
   "execution_count": 7,
   "metadata": {
    "collapsed": true
   },
   "outputs": [],
   "source": [
    "# Grid search the hyper parameters and compute the error for each using mean as the prediction\n",
    "error = {}\n",
    "for b in bs:\n",
    "    gp = GaussianProcess(x_train, y_train, rbf(b))\n",
    "    for sigma in sigmas:\n",
    "        gp.updateSigma(sigma)\n",
    "        gp.predict(x_test)\n",
    "        if b in error:\n",
    "            error[b].append(float(RMSE(y_test, gp.results[sigma][0])))\n",
    "        else:\n",
    "            error[b] = [float(RMSE(y_test, gp.results[sigma][0]))]"
   ]
  },
  {
   "cell_type": "code",
   "execution_count": 8,
   "metadata": {},
   "outputs": [
    {
     "data": {
      "text/html": [
       "<div>\n",
       "<style scoped>\n",
       "    .dataframe tbody tr th:only-of-type {\n",
       "        vertical-align: middle;\n",
       "    }\n",
       "\n",
       "    .dataframe tbody tr th {\n",
       "        vertical-align: top;\n",
       "    }\n",
       "\n",
       "    .dataframe thead th {\n",
       "        text-align: right;\n",
       "    }\n",
       "</style>\n",
       "<table border=\"1\" class=\"dataframe\">\n",
       "  <thead>\n",
       "    <tr style=\"text-align: right;\">\n",
       "      <th></th>\n",
       "      <th>5</th>\n",
       "      <th>7</th>\n",
       "      <th>9</th>\n",
       "      <th>11</th>\n",
       "      <th>13</th>\n",
       "      <th>15</th>\n",
       "    </tr>\n",
       "  </thead>\n",
       "  <tbody>\n",
       "    <tr>\n",
       "      <th>0</th>\n",
       "      <td>1.966276</td>\n",
       "      <td>1.920163</td>\n",
       "      <td>1.897649</td>\n",
       "      <td>1.890507</td>\n",
       "      <td>1.895849</td>\n",
       "      <td>1.909603</td>\n",
       "    </tr>\n",
       "    <tr>\n",
       "      <th>1</th>\n",
       "      <td>1.933135</td>\n",
       "      <td>1.904877</td>\n",
       "      <td>1.902519</td>\n",
       "      <td>1.914981</td>\n",
       "      <td>1.935586</td>\n",
       "      <td>1.959549</td>\n",
       "    </tr>\n",
       "    <tr>\n",
       "      <th>2</th>\n",
       "      <td>1.923420</td>\n",
       "      <td>1.908080</td>\n",
       "      <td>1.917648</td>\n",
       "      <td>1.938849</td>\n",
       "      <td>1.964597</td>\n",
       "      <td>1.990804</td>\n",
       "    </tr>\n",
       "    <tr>\n",
       "      <th>3</th>\n",
       "      <td>1.922198</td>\n",
       "      <td>1.915902</td>\n",
       "      <td>1.932514</td>\n",
       "      <td>1.957936</td>\n",
       "      <td>1.985502</td>\n",
       "      <td>2.011915</td>\n",
       "    </tr>\n",
       "    <tr>\n",
       "      <th>4</th>\n",
       "      <td>1.924769</td>\n",
       "      <td>1.924804</td>\n",
       "      <td>1.945699</td>\n",
       "      <td>1.973216</td>\n",
       "      <td>2.001314</td>\n",
       "      <td>2.027370</td>\n",
       "    </tr>\n",
       "    <tr>\n",
       "      <th>5</th>\n",
       "      <td>1.929213</td>\n",
       "      <td>1.933701</td>\n",
       "      <td>1.957235</td>\n",
       "      <td>1.985764</td>\n",
       "      <td>2.013878</td>\n",
       "      <td>2.039465</td>\n",
       "    </tr>\n",
       "    <tr>\n",
       "      <th>6</th>\n",
       "      <td>1.934634</td>\n",
       "      <td>1.942254</td>\n",
       "      <td>1.967403</td>\n",
       "      <td>1.996375</td>\n",
       "      <td>2.024310</td>\n",
       "      <td>2.049463</td>\n",
       "    </tr>\n",
       "    <tr>\n",
       "      <th>7</th>\n",
       "      <td>1.940583</td>\n",
       "      <td>1.950380</td>\n",
       "      <td>1.976492</td>\n",
       "      <td>2.005603</td>\n",
       "      <td>2.033307</td>\n",
       "      <td>2.058105</td>\n",
       "    </tr>\n",
       "    <tr>\n",
       "      <th>8</th>\n",
       "      <td>1.946820</td>\n",
       "      <td>1.958093</td>\n",
       "      <td>1.984741</td>\n",
       "      <td>2.013835</td>\n",
       "      <td>2.041317</td>\n",
       "      <td>2.065845</td>\n",
       "    </tr>\n",
       "    <tr>\n",
       "      <th>9</th>\n",
       "      <td>1.953213</td>\n",
       "      <td>1.965438</td>\n",
       "      <td>1.992341</td>\n",
       "      <td>2.021345</td>\n",
       "      <td>2.048642</td>\n",
       "      <td>2.072976</td>\n",
       "    </tr>\n",
       "  </tbody>\n",
       "</table>\n",
       "</div>"
      ],
      "text/plain": [
       "         5         7         9         11        13        15\n",
       "0  1.966276  1.920163  1.897649  1.890507  1.895849  1.909603\n",
       "1  1.933135  1.904877  1.902519  1.914981  1.935586  1.959549\n",
       "2  1.923420  1.908080  1.917648  1.938849  1.964597  1.990804\n",
       "3  1.922198  1.915902  1.932514  1.957936  1.985502  2.011915\n",
       "4  1.924769  1.924804  1.945699  1.973216  2.001314  2.027370\n",
       "5  1.929213  1.933701  1.957235  1.985764  2.013878  2.039465\n",
       "6  1.934634  1.942254  1.967403  1.996375  2.024310  2.049463\n",
       "7  1.940583  1.950380  1.976492  2.005603  2.033307  2.058105\n",
       "8  1.946820  1.958093  1.984741  2.013835  2.041317  2.065845\n",
       "9  1.953213  1.965438  1.992341  2.021345  2.048642  2.072976"
      ]
     },
     "execution_count": 8,
     "metadata": {},
     "output_type": "execute_result"
    }
   ],
   "source": [
    "# RMSE for each hyperparameter combination \n",
    "table = pd.DataFrame.from_dict(error)\n",
    "table"
   ]
  },
  {
   "cell_type": "markdown",
   "metadata": {},
   "source": [
    "To better understand what the Gaussian process is doing through visualization, re-run the algorithm by using only the 4th dimension of $x_i$ (car weight)."
   ]
  },
  {
   "cell_type": "code",
   "execution_count": 9,
   "metadata": {
    "collapsed": true
   },
   "outputs": [],
   "source": [
    "dim4 = x_train[[3,6]]\n",
    "gp2 = GaussianProcess(dim4, y_train, rbf(5), 2)\n",
    "gp2.predict(dim4)\n",
    "\n",
    "solid_estimate = list(zip(dim4[3].tolist(), gp2.results[gp2.sigma][0]))\n",
    "solid_estimate.sort(key=lambda tup: tup[0])  # sorts in place"
   ]
  },
  {
   "cell_type": "markdown",
   "metadata": {},
   "source": [
    "Plot as a solid line the predictive mean of the Gaussian process at each point in the training set. You can think of this as creating a test set by duplicating $x_i$[4] for each i in the training set and then to predict that test set."
   ]
  },
  {
   "cell_type": "code",
   "execution_count": 10,
   "metadata": {},
   "outputs": [
    {
     "data": {
      "image/png": "[encoded data removed]",
      "text/plain": [
       "<matplotlib.figure.Figure at 0x11a50ad68>"
      ]
     },
     "metadata": {},
     "output_type": "display_data"
    }
   ],
   "source": [
    "plt.figure(figsize = (8,6))\n",
    "plt.plot(dim4[3], y_train, 'ro', label = 'Data')\n",
    "plt.plot(*zip(*solid_estimate), linewidth = 3, label  = 'Prediction')\n",
    "plt.title('Scatter Plot of Data and Predictive Mean of Gaussian Process\\n')\n",
    "plt.xlabel('Car Weight (Dimension 4)')\n",
    "plt.ylabel('MPG(y)')\n",
    "plt.legend(numpoints = 1);"
   ]
  }
 ],
 "metadata": {
  "kernelspec": {
   "display_name": "Python 3",
   "language": "python",
   "name": "python3"
  },
  "language_info": {
   "codemirror_mode": {
    "name": "ipython",
    "version": 3
   },
   "file_extension": ".py",
   "mimetype": "text/x-python",
   "name": "python",
   "nbconvert_exporter": "python",
   "pygments_lexer": "ipython3",
   "version": "3.6.1"
  }
 },
 "nbformat": 4,
 "nbformat_minor": 2
}
